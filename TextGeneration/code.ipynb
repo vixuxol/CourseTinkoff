{
 "cells": [
  {
   "cell_type": "code",
   "execution_count": 1,
   "metadata": {},
   "outputs": [],
   "source": [
    "import re \n",
    "import random\n",
    "import pickle"
   ]
  },
  {
   "cell_type": "code",
   "execution_count": 2,
   "metadata": {},
   "outputs": [],
   "source": [
    "class ModelGener(object):\n",
    "    \n",
    "    def fit(self):\n",
    "        #нужен файл для обучения модели (нужно его искать по названию) + считаем его\n",
    "        text_file_name = str(input(\"Введите имя файла для обучения: \"))\n",
    "        f = open(text_file_name, \"r\") #открыли файл на чтение\n",
    "        text = \"\" #переменная для хранения текста\n",
    "        for line in f:\n",
    "            text += line\n",
    "        f.close()\n",
    "\n",
    "        #обработка файла (выкидываем неалфавитные символы, приводим к lowercase.)\n",
    "        text = text.lower()\n",
    "        text = re.split(\"[^а-яА-ЯёЁ]+\",text) ##получили список слов по порядку\n",
    "\n",
    "\n",
    "        #создание словаря\n",
    "        dictionary = {}\n",
    "        for i in range(len(text) -1):\n",
    "            if dictionary.get(text[i]) is None:\n",
    "                dictionary[text[i]] = [text[i + 1]] #создаем новый ключ и его значение\n",
    "            else:\n",
    "                dictionary.get(text[i]).append(text[i + 1]) #добавляем в список к существующим\n",
    "        dictionary\n",
    "\n",
    "        #сохранение модели\n",
    "        model_file_name = str(input(\"Введите имя файла сохранения модели: \"))\n",
    "        with open(model_file_name, 'wb') as f:\n",
    "            pickle.dump(dictionary, f)\n",
    "        f.close()\n",
    "            \n",
    "    def generate(self):\n",
    "        \n",
    "        name_model_file = str(input(\"Введите имя файла c моделью: \"))\n",
    "        dictionary = {}\n",
    "        with open(name_model_file, 'rb') as f:\n",
    "            dictionary = pickle.load(f)\n",
    "        f.close()\n",
    "\n",
    "        init_word = str(input(\"Введите начальное слово: \"))\n",
    "        text = init_word\n",
    "        length_text = int(input(\"Какова должна быть длина последовательности?\"))\n",
    "\n",
    "        for i in range(length_text - 1):\n",
    "            if i == 0: #если это первое слово, то должны проверить в словаре введенное начальное слово\n",
    "                if dictionary.get(text) is not None:\n",
    "                    elem = text\n",
    "                    text += \" \" #добавляем пробел\n",
    "                else:\n",
    "                    elem = random.choice(list(dictionary.keys()))\n",
    "                    text += elem\n",
    "                    text += \" \"\n",
    "            else:\n",
    "                elem_tec = random.choice(dictionary.setdefault(elem))\n",
    "                text += elem_tec\n",
    "                text += \" \"\n",
    "                elem = elem_tec\n",
    "        return text\n"
   ]
  },
  {
   "cell_type": "code",
   "execution_count": 3,
   "metadata": {},
   "outputs": [],
   "source": [
    "Model1 = ModelGener() #создали объект"
   ]
  },
  {
   "cell_type": "code",
   "execution_count": 4,
   "metadata": {},
   "outputs": [
    {
     "name": "stdout",
     "output_type": "stream",
     "text": [
      "Введите имя файла для обучения: t1.txt\n",
      "Введите имя файла сохранения модели: model12.txt\n"
     ]
    }
   ],
   "source": [
    "Model1.fit() #обучили модель"
   ]
  },
  {
   "cell_type": "code",
   "execution_count": 5,
   "metadata": {},
   "outputs": [
    {
     "name": "stdout",
     "output_type": "stream",
     "text": [
      "Введите имя файла c моделью: model12.txt\n",
      "Введите начальное слово: погода\n",
      "Какова должна быть длина последовательности?30\n",
      "погода все равно что я очень удачно сказал вдруг увидавший что она взяла его не та пучина куда пошла к с нею в нее не болели не могло быть \n"
     ]
    }
   ],
   "source": [
    "print(Model1.generate())"
   ]
  },
  {
   "cell_type": "code",
   "execution_count": null,
   "metadata": {},
   "outputs": [],
   "source": []
  }
 ],
 "metadata": {
  "kernelspec": {
   "display_name": "Python 3",
   "language": "python",
   "name": "python3"
  },
  "language_info": {
   "codemirror_mode": {
    "name": "ipython",
    "version": 3
   },
   "file_extension": ".py",
   "mimetype": "text/x-python",
   "name": "python",
   "nbconvert_exporter": "python",
   "pygments_lexer": "ipython3",
   "version": "3.7.3"
  }
 },
 "nbformat": 4,
 "nbformat_minor": 2
}
