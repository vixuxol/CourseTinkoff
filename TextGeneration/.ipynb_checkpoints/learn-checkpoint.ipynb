{
 "cells": [
  {
   "cell_type": "code",
   "execution_count": 2,
   "metadata": {},
   "outputs": [],
   "source": [
    "import re "
   ]
  },
  {
   "cell_type": "code",
   "execution_count": 14,
   "metadata": {},
   "outputs": [
    {
     "name": "stdout",
     "output_type": "stream",
     "text": [
      "Введите имя файла для обучения: t.txt\n"
     ]
    },
    {
     "data": {
      "text/plain": [
       "{'а': 'праздник',\n",
       " 'праздник': 'английского',\n",
       " 'английского': 'посланника',\n",
       " 'посланника': 'нынче',\n",
       " 'нынче': 'середа',\n",
       " 'середа': 'мне',\n",
       " 'мне': 'надо',\n",
       " 'надо': 'показаться',\n",
       " 'показаться': 'там',\n",
       " 'там': 'сказал',\n",
       " 'сказал': 'князь'}"
      ]
     },
     "execution_count": 14,
     "metadata": {},
     "output_type": "execute_result"
    }
   ],
   "source": [
    "#нужен файл для обучения модели (нужно его искать по названию) + считаем его\n",
    "text_file_name = str (input(\"Введите имя файла для обучения: \"))\n",
    "f = open(text_file_name, \"r\") #открыли файл на чтение\n",
    "text = \"\" #переменная для хранения текста\n",
    "for line in f:\n",
    "    text += line\n",
    "f.close()\n",
    "\n",
    "#обработка файла (выкидываем неалфавитные символы, приводим к lowercase.)\n",
    "text = text.lower()\n",
    "text = re.split(\"[^а-яА-ЯёЁ]+\",text) ##получили список слов по порядку\n",
    "\n",
    "\n",
    "#создание словаря\n",
    "dictionary = {}\n",
    "for i in range(len(text) -1):\n",
    "    if dictionary.get\n",
    "    dictionary[text[i]] = text[i + 1]\n",
    "dictionary"
   ]
  },
  {
   "cell_type": "code",
   "execution_count": 5,
   "metadata": {},
   "outputs": [],
   "source": [
    "#обработка текста (выкидывать неалфавитные символы, приводить к lowercase.)\n",
    "# разбить тексты на слова (токенизация)"
   ]
  }
 ],
 "metadata": {
  "kernelspec": {
   "display_name": "Python 3",
   "language": "python",
   "name": "python3"
  },
  "language_info": {
   "codemirror_mode": {
    "name": "ipython",
    "version": 3
   },
   "file_extension": ".py",
   "mimetype": "text/x-python",
   "name": "python",
   "nbconvert_exporter": "python",
   "pygments_lexer": "ipython3",
   "version": "3.7.3"
  }
 },
 "nbformat": 4,
 "nbformat_minor": 2
}
